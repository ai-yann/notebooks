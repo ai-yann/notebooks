{
  "cells": [
    {
      "cell_type": "markdown",
      "metadata": {
        "id": "8zk41AOxHDRJ"
      },
      "source": [
        "<a target=\"_blank\" href=\"https://colab.research.google.com/github/cohere-ai/notebooks/blob/main/notebooks/llmu/Constructing_Prompt_Commands.ipynb\">\n",
        "  <img src=\"https://colab.research.google.com/assets/colab-badge.svg\" alt=\"Open In Colab\"/>\n",
        "</a>"
      ]
    },
    {
      "cell_type": "markdown",
      "metadata": {
        "id": "kqO87yLG6peE"
      },
      "source": [
        "# Constructing Prompts for the Command Model"
      ]
    },
    {
      "cell_type": "markdown",
      "metadata": {
        "id": "Ld3HJTuBsRsv"
      },
      "source": [
        "Prompts can be as simple as a one-liner, or they can be as complex as multiple layers of specific information. The more specific your command is, the more likely you will get exactly what you need from the model.\n",
        "\n",
        "We’ll look at some tips and ideas for constructing the commands in your prompt to help you get to your intended outcome.\n",
        "\n",
        "Read the accompanying [article here](https://docs.cohere.com/docs/constructing-prompts)."
      ]
    },
    {
      "cell_type": "markdown",
      "metadata": {
        "id": "IKqOwwW6kxg5"
      },
      "source": [
        "# Setup"
      ]
    },
    {
      "cell_type": "code",
      "execution_count": 3,
      "metadata": {
        "id": "z49_e7Ma2IgU"
      },
      "outputs": [],
      "source": [
        "! pip install cohere -q"
      ]
    },
    {
      "cell_type": "markdown",
      "metadata": {},
      "source": [
        "# Setup"
      ]
    },
    {
      "cell_type": "code",
      "execution_count": 4,
      "metadata": {
        "id": "OQEjpdpIDW5a"
      },
      "outputs": [],
      "source": [
        "import cohere\n",
        "co = cohere.Client(\"COHERE_API_KEY\") # Get your API key: https://dashboard.cohere.com/api-keys"
      ]
    },
    {
      "cell_type": "code",
      "execution_count": null,
      "metadata": {
        "cellView": "form",
        "id": "QPa2O4NN1wPD"
      },
      "outputs": [],
      "source": [
        "#@title Enable text wrapping in Google Colab\n",
        "\n",
        "from IPython.display import HTML, display\n",
        "\n",
        "def set_css():\n",
        "  display(HTML('''\n",
        "  <style>\n",
        "    pre {\n",
        "        white-space: pre-wrap;\n",
        "    }\n",
        "  </style>\n",
        "  '''))\n",
        "get_ipython().events.register('pre_run_cell', set_css)"
      ]
    },
    {
      "cell_type": "markdown",
      "metadata": {
        "id": "Ms0iYHLADZdx"
      },
      "source": [
        "# Function to generate text"
      ]
    },
    {
      "cell_type": "markdown",
      "metadata": {
        "id": "mIpaglobni_M"
      },
      "source": [
        "Let’s define a text generation function that we'll use throughout this notebook."
      ]
    },
    {
      "cell_type": "code",
      "execution_count": 11,
      "metadata": {
        "id": "3F5rb6Pj2mHq"
      },
      "outputs": [],
      "source": [
        "def generate_text(prompt, temp=0):\n",
        "  response = co.chat_stream(\n",
        "    message=prompt,\n",
        "    model=\"command-r-plus\",\n",
        "    temperature=temp)\n",
        "\n",
        "  for event in response:\n",
        "      if event.event_type == \"text-generation\":\n",
        "          print(event.text, end='')"
      ]
    },
    {
      "cell_type": "markdown",
      "metadata": {
        "id": "ZMhfcQc4yg8r"
      },
      "source": [
        "# Instruction"
      ]
    },
    {
      "cell_type": "markdown",
      "metadata": {
        "id": "dpUeCr7VlLy6"
      },
      "source": [
        "At its core, prompting a Command model is about sending an instruction to a text generation model and getting a response back. Hence, the smallest unit of a perfectly complete prompt is a short line of instruction to the model."
      ]
    },
    {
      "cell_type": "code",
      "execution_count": 12,
      "metadata": {
        "colab": {
          "base_uri": "https://localhost:8080/",
          "height": 142
        },
        "id": "-EJx_8i4zTQ-",
        "outputId": "2a68084b-fcab-453c-95ad-e3d1f2f65269"
      },
      "outputs": [
        {
          "name": "stdout",
          "output_type": "stream",
          "text": [
            "Introducing the CO-1T Wireless Headphones: Your Ultimate Audio Companion\n",
            "\n",
            "Immerse yourself in a world of pristine audio with the CO-1T Wireless Headphones. These headphones are meticulously crafted to deliver an unparalleled listening experience, combining superior sound quality with seamless wireless connectivity.\n",
            " \n",
            " The CO-1T boasts a sleek and ergonomic design, ensuring maximum comfort for extended listening sessions. The soft, cushioned earpads gently enclose your ears, providing a secure and comfortable fit. The adjustable headband ensures a perfect fit for all head sizes, allowing you to focus on your audio without distraction.\n",
            " \n",
            " At the heart of the CO-1T lies a pair of precision-engineered drivers, delivering a rich and detailed soundstage. Experience deep, thumping bass that adds impact to your favorite tracks, coupled with clear and crisp highs that bring out the nuances in your music. The advanced noise-canceling technology actively blocks out unwanted background noise, ensuring you hear nothing but pure, uninterrupted audio.\n",
            " \n",
            " Freedom from wires is yours with the latest Bluetooth technology, offering a stable and reliable connection to your devices. Effortlessly switch between your music and calls with the built-in microphone, ensuring you stay connected no matter where your day takes you. The intuitive touch controls provide easy access to all your headphone's features, allowing you to play, pause, skip tracks, and adjust the volume with a simple tap.\n",
            " \n",
            " The CO-1T Wireless Headphones offer an exceptional battery life of up to 24 hours on a single charge, providing all-day power for your audio needs. The convenient carrying case also acts as a portable charger, giving you the peace of mind to enjoy your music on the go.\n",
            " \n",
            " Elevate your audio experience with the CO-1T Wireless Headphones. Immerse yourself in your favorite tunes, podcasts, and calls with unparalleled clarity and comfort. It's time to discover a whole new world of wireless audio excellence.\n",
            " \n",
            " Key Features:\n",
            "- Superior sound quality with precision-engineered drivers\n",
            "- Active noise-canceling technology for uninterrupted listening\n",
            "- Seamless wireless connectivity with the latest Bluetooth technology\n",
            "- Intuitive touch controls for easy access to all features\n",
            "- Ergonomic design with soft, cushioned earpads for maximum comfort\n",
            "- Impressive 24-hour battery life for all-day power\n",
            "- Portable charging case for on-the-go convenience\n",
            " \n",
            " Experience the CO-1T Wireless Headphones and unlock a whole new dimension of wireless audio perfection."
          ]
        }
      ],
      "source": [
        "user_input = \"a wireless headphone product named the CO-1T\"\n",
        "prompt = f\"\"\"Write a creative product description for {user_input}\"\"\"\n",
        "\n",
        "generate_text(prompt, temp=0.5)"
      ]
    },
    {
      "cell_type": "markdown",
      "metadata": {
        "id": "lOR8iuPtzOi_"
      },
      "source": [
        "# Specifics"
      ]
    },
    {
      "cell_type": "markdown",
      "metadata": {
        "id": "xks4t5_3lQ4_"
      },
      "source": [
        "A simple and short prompt can get you started, but in most cases, you’ll need to add specificity to your instructions."
      ]
    },
    {
      "cell_type": "markdown",
      "metadata": {
        "id": "v2tp7SCjUUGZ"
      },
      "source": [
        "### Single paragraph"
      ]
    },
    {
      "cell_type": "code",
      "execution_count": 13,
      "metadata": {
        "colab": {
          "base_uri": "https://localhost:8080/",
          "height": 178
        },
        "id": "WtSlvOirygmV",
        "outputId": "a15ccefa-4911-43d0-9a66-04a932a1c91c"
      },
      "outputs": [
        {
          "name": "stdout",
          "output_type": "stream",
          "text": [
            "Introducing the CO-1T Wireless Headphones: Your New Sound Sanctuary. \n",
            "\n",
            "As a software developer, you understand the importance of focus and immersion when tackling complex coding tasks. Now imagine having a personal sound sanctuary that travels with you, blocking out the noisy distractions of the office. Enter the CO-1T Wireless Headphones - your new secret weapon for productivity and unparalleled audio experiences. \n",
            "\n",
            "**Audio Bliss, Untangled:**\n",
            "Bid farewell to the tangles and constraints of wired headphones. The CO-1T connects seamlessly via Bluetooth, offering a liberating and uninterrupted connection to your devices. Roam freely within a 10-meter radius without missing a beat, ensuring you can stay connected to your tasks even when you need to step away from your desk. \n",
            "\n",
            "**Noise-Isolating Technology:**\n",
            "Our headphones are engineered with cutting-edge noise-isolating technology, creating a cocoon of tranquility amidst the chaos. The active noise cancellation feature effectively blocks out unwanted background noise, from the relentless hum of the office AC to the distracting chatter of colleagues. Immerse yourself in a focused environment, enhancing your concentration and productivity. \n",
            "\n",
            "**Fast Charging, Extended Play:**\n",
            "The CO-1T Wireless Headphones are designed with your busy schedule in mind. A quick 10-minute fast charge gives you up to 2 hours of uninterrupted listening time, ensuring you're never without your audio companion when you need it most. A full charge provides an impressive 24 hours of playtime, easily covering a full workday and beyond. \n",
            "\n",
            "**Ergonomic Design for All-Day Comfort:**\n",
            "We understand that long hours of wear can lead to discomfort. That's why we've crafted the CO-1T with an ergonomic design, featuring soft, cushioned earpads and a lightweight, adjustable headband. This ensures a comfortable fit that conforms to your head, allowing you to focus on your work, not your headphones. \n",
            "\n",
            "**Seamless Call Management:**\n",
            "Take control of your calls with intuitive built-in controls. The CO-1T features a high-quality microphone and easy-to-use buttons, allowing you to answer, reject, and end calls with ease. The noise-canceling technology ensures your voice is transmitted clearly, making remote collaborations and conference calls a breeze, even in noisy environments. \n",
            "\n",
            "**Multipoint Connection:**\n",
            "Connect and switch seamlessly between multiple devices with the multipoint connection feature. Easily manage your audio across your laptop, tablet, and smartphone, ensuring you never miss a beat, no matter the device. \n",
            "\n",
            "**Customizable Audio Profiles:**\n",
            "Tailor the sound to your unique preferences with customizable audio profiles. Adjust the bass, treble, and mid-tones to create a personalized listening experience that enhances your favorite tunes and ensures clarity for those all-important work calls. \n",
            "\n",
            "With the CO-1T Wireless Headphones, you can create your own private workspace, free from distractions, and elevate your audio experiences to new heights. Focus, productivity, and audio bliss are now within your reach. \n",
            "\n",
            "Add the CO-1T Wireless Headphones to your tech arsenal and transform the way you work and play."
          ]
        }
      ],
      "source": [
        "user_input_product = \"a wireless headphone product named the CO-1T\"\n",
        "user_input_keywords = '\"bluetooth\", \"wireless\", \"fast charging\"'\n",
        "user_input_customer = \"a software developer who works in noisy offices\"\n",
        "user_input_describe = \"benefits of this product\"\n",
        "\n",
        "prompt = f\"\"\"Write a creative product description for {user_input_product}\n",
        "with the keywords {user_input_keywords} for {user_input_customer}, and describe {user_input_describe}.\"\"\"\n",
        "\n",
        "generate_text(prompt, temp=0.5)"
      ]
    },
    {
      "cell_type": "markdown",
      "metadata": {
        "id": "TZltmtYoUY_i"
      },
      "source": [
        "### Structured"
      ]
    },
    {
      "cell_type": "markdown",
      "metadata": {
        "id": "e1V8MaOzlVAh"
      },
      "source": [
        "In the example above, we pack the additional details of the prompt in a single paragraph. Alternatively, we can also compose it to be more structured, like so:"
      ]
    },
    {
      "cell_type": "code",
      "execution_count": 14,
      "metadata": {
        "colab": {
          "base_uri": "https://localhost:8080/",
          "height": 321
        },
        "id": "mARUjKT0zeVY",
        "outputId": "a09b5a1a-65ad-472d-a847-255a69323f11"
      },
      "outputs": [
        {
          "name": "stdout",
          "output_type": "stream",
          "text": [
            "Introducing the CO-1T Wireless Headphones: Your Ultimate Audio Companion\n",
            "\n",
            "As a software developer, you know the importance of focus and immersion in your work. Enter the CO-1T Wireless Headphones - designed to provide an unparalleled audio experience with the convenience of wireless connectivity.\n",
            "\n",
            "**Immerse Yourself in Audio Excellence**\n",
            "With the CO-1T, you can block out the noisy distractions of your office and focus on what matters - your code. The precision-engineered drivers deliver rich, detailed sound, ensuring every audio cue is crystal clear. Whether it's listening to code tutorials or catching up on the latest tech podcasts, the CO-1T provides an immersive experience that will enhance your productivity.\n",
            "\n",
            "**Bluetooth Freedom**\n",
            "Say goodbye to tangled cords and restricted movement. The CO-1T connects seamlessly to your devices via Bluetooth, giving you the freedom to move around your workspace without compromising on audio quality. Take calls, attend video conferences, and listen to your favorite focus playlists without being tethered to your desk.\n",
            "\n",
            "**Fast Charging, Long-Lasting**\n",
            "We understand that your work demands long hours, and the CO-1T is designed to keep up with your pace. These headphones feature fast charging technology, providing hours of listening time with just a quick charge. No more worrying about your headphones dying mid-way through a project. The CO-1T is the reliable companion you need to power through those late-night coding sessions.\n",
            "\n",
            "**Style Meets Functionality**\n",
            "The CO-1T Wireless Headphones combine sleek aesthetics with ergonomic design. The lightweight construction and soft, cushioned earpads ensure all-day comfort, while the adjustable headband provides a secure fit for any head size. The intuitive on-ear controls allow you to adjust volume, skip tracks, and answer calls without interrupting your workflow.\n",
            "\n",
            "Invest in the CO-1T Wireless Headphones and experience the benefits of uninterrupted focus. Create your own audio sanctuary and elevate your productivity to new heights."
          ]
        }
      ],
      "source": [
        "user_input_product = \"a wireless headphone product named the CO-1T\"\n",
        "user_input_keywords = '\"bluetooth\", \"wireless\", \"fast charging\"'\n",
        "user_input_customer = \"a software developer who works in noisy offices\"\n",
        "user_input_describe = \"benefits of this product\"\n",
        "\n",
        "prompt = f\"\"\"Write a creative product description for {user_input_product}.\n",
        "Keywords: {user_input_keywords}\n",
        "Audience: {user_input_customer}\n",
        "Describe: {user_input_describe}\"\"\"\n",
        "\n",
        "generate_text(prompt, temp=0.5)"
      ]
    },
    {
      "cell_type": "markdown",
      "metadata": {
        "id": "LYexg4Fc1NiC"
      },
      "source": [
        "# Context"
      ]
    },
    {
      "cell_type": "markdown",
      "metadata": {
        "id": "guVdc3ZildZP"
      },
      "source": [
        "While LLMs excel in text generation tasks, they struggle in context-aware scenarios. In real applications, being able to add context to a prompt is key because this is what enables personalized generative AI for a team or company. It makes many use cases possible, such as intelligent assistants, customer support, and productivity tools, that retrieve the right information from a wide range of sources and add it to the prompt."
      ]
    },
    {
      "cell_type": "markdown",
      "metadata": {
        "id": "x5SeWgap1bHL"
      },
      "source": [
        "### Without Context"
      ]
    },
    {
      "cell_type": "code",
      "execution_count": 6,
      "metadata": {
        "colab": {
          "base_uri": "https://localhost:8080/",
          "height": 499
        },
        "id": "qn_TF3kD1X1h",
        "outputId": "285fdcf4-076c-4b84-e3fe-107bea32fee2"
      },
      "outputs": [
        {
          "name": "stdout",
          "output_type": "stream",
          "text": [
            "The CO-1T wireless headphone is a premium headphone that offers a range of features for a superior listening experience. Here are some of its key features:\n",
            "\n",
            "1. Superior Sound Quality: The CO-1T headphone delivers exceptional audio performance with deep bass, crisp highs, and crystal-clear midranges. It provides a rich and immersive soundstage that brings your music, movies, and games to life.\n",
            "\n",
            "2. Active Noise Cancellation (ANC): The headphone is equipped with advanced active noise cancellation technology that effectively blocks out unwanted background noises. This allows you to focus on your audio content without distractions, making it ideal for travel, work, or studying in noisy environments.\n",
            "\n",
            "3. Comfortable Design: The CO-1T headphone features a lightweight and ergonomic design with soft, padded earcups and an adjustable headband. This ensures a comfortable fit for extended listening sessions without causing fatigue or discomfort.\n",
            "\n",
            "4. Wireless Connectivity: The headphone connects seamlessly to your devices via Bluetooth, offering a stable and reliable wireless connection. It provides freedom of movement and eliminates the hassle of tangled cords.\n",
            "\n",
            "5. Long Battery Life: The CO-1T headphone offers impressive battery life, providing up to 30 hours of continuous playback on a single charge. This means you can enjoy your music throughout the day without worrying about recharging.\n",
            "\n",
            "6. Easy Controls: The headphone features intuitive on-ear controls that allow you to adjust volume, play/pause your music, skip tracks, and answer calls with ease. You can also activate your device's voice assistant with a simple touch.\n",
            "\n",
            "7. Built-in Microphone: The CO-1T headphone includes a high-quality built-in microphone for clear and hands-free calling. It ensures your voice is transmitted clearly, even in noisy environments, making it perfect for conference calls or voice chats.\n",
            "\n",
            "8. Foldable and Portable: The headphone is designed with a foldable structure, making it easy to carry and store in the included carrying case. This makes it a convenient companion for on-the-go listening.\n",
            "\n",
            "9. Multi-Point Connection: The CO-1T headphone can simultaneously connect to two devices, allowing seamless switching between them. This feature is especially useful if you frequently switch between your phone and laptop.\n",
            "\n",
            "10. Quick Charging: The headphone supports quick charging, providing several hours of playback time with just a short charging session. This ensures you're never without your music for too long.\n",
            "\n",
            "Overall, the CO-1T wireless headphone offers a combination of exceptional sound quality, advanced noise cancellation, comfort, and convenience, making it a top choice for audio enthusiasts and those seeking a premium listening experience."
          ]
        }
      ],
      "source": [
        "user_input =\"What are the key features of the CO-1T wireless headphone\"\n",
        "prompt = user_input\n",
        "\n",
        "generate_text(prompt, temp=0)"
      ]
    },
    {
      "cell_type": "markdown",
      "metadata": {
        "id": "I6PNX9TC1fIv"
      },
      "source": [
        "### With Context"
      ]
    },
    {
      "cell_type": "code",
      "execution_count": 15,
      "metadata": {
        "colab": {
          "base_uri": "https://localhost:8080/",
          "height": 53
        },
        "id": "HeSNBlxu1nLd",
        "outputId": "89dc8ab1-dd6b-4fc9-b592-197cab187698"
      },
      "outputs": [
        {
          "name": "stdout",
          "output_type": "stream",
          "text": [
            "The key features of the CO-1T wireless headphones are:\n",
            "\n",
            "- Noise-canceling capability\n",
            "- Fast charging capacity\n",
            "- Wireless Bluetooth connectivity\n",
            "- Designed in partnership with software developers for optimal performance in chaotic environments\n",
            "\n",
            "With these features, the CO-1T headphones offer an easy and peaceful way to focus and work without distractions, providing a much-needed break from the surrounding chaos."
          ]
        }
      ],
      "source": [
        "context = \"\"\"Think back to the last time you were working without any distractions in the office. That's right...I bet it's been a while. \\\n",
        "With the newly improved CO-1T noise-cancelling Bluetooth headphones, you can work in peace all day. Designed in partnership with \\\n",
        "software developers who work around the mayhem of tech startups, these headphones are finally the break you've been waiting for. With \\\n",
        "fast charging capacity and wireless Bluetooth connectivity, the CO-1T is the easy breezy way to get through your day without being \\\n",
        "overwhelmed by the chaos of the world.\"\"\"\n",
        "\n",
        "user_input = \"What are the key features of the CO-1T wireless headphone\"\n",
        "\n",
        "prompt = f\"\"\"{context}\n",
        "Given the information above, answer this question: {user_input}\"\"\"\n",
        "\n",
        "generate_text(prompt, temp=0.1)"
      ]
    },
    {
      "cell_type": "markdown",
      "metadata": {
        "id": "oPUjDfEg00-m"
      },
      "source": [
        "# Examples"
      ]
    },
    {
      "cell_type": "markdown",
      "metadata": {
        "id": "XhzAj8Z3lkXo"
      },
      "source": [
        "All our prompts so far use what is called zero-shot prompting, which means that we are providing instruction without any example. But in many cases, it is extremely helpful to provide examples to the model to guide its response. This is called few-shot prompting.\n",
        "\n"
      ]
    },
    {
      "cell_type": "markdown",
      "metadata": {
        "id": "PyoklM3--BQV"
      },
      "source": [
        "### Without Examples (Zero-Shot)"
      ]
    },
    {
      "cell_type": "code",
      "execution_count": 8,
      "metadata": {
        "colab": {
          "base_uri": "https://localhost:8080/",
          "height": 35
        },
        "id": "9BbLgfCd7wCF",
        "outputId": "969e0e54-b3d8-47a9-e142-442aafdec156"
      },
      "outputs": [
        {
          "name": "stdout",
          "output_type": "stream",
          "text": [
            "Action: Send a message to Alison asking if she can give you a ride to the concert tonight."
          ]
        }
      ],
      "source": [
        "prompt=\"\"\"Turn the following message to a virtual assistant into the correct action:\n",
        "Send a message to Alison to ask if she can pick me up tonight to go to the concert together\"\"\"\n",
        "\n",
        "generate_text(prompt, temp=0)"
      ]
    },
    {
      "cell_type": "markdown",
      "metadata": {
        "id": "Wl6TcH0f-Dec"
      },
      "source": [
        "### With Examples (Few-Shot)"
      ]
    },
    {
      "cell_type": "code",
      "execution_count": 9,
      "metadata": {
        "colab": {
          "base_uri": "https://localhost:8080/",
          "height": 35
        },
        "id": "UznDzM5G8Anc",
        "outputId": "f51db9e4-a41e-4be6-d2a1-6405bb549a24"
      },
      "outputs": [
        {
          "name": "stdout",
          "output_type": "stream",
          "text": [
            "can you pick me up tonight to go to the concert together?"
          ]
        }
      ],
      "source": [
        "user_input = \"Send a message to Alison to ask if she can pick me up tonight to go to the concert together\"\n",
        "\n",
        "prompt=f\"\"\"Turn the following message to a virtual assistant into the correct action:\n",
        "\n",
        "Message: Ask my aunt if she can go to the JDRF Walk with me October 6th\n",
        "Action: can you go to the jdrf walk with me october 6th\n",
        "\n",
        "Message: Ask Eliza what should I bring to the wedding tomorrow\n",
        "Action: what should I bring to the wedding tomorrow\n",
        "\n",
        "Message: Send message to supervisor that I am sick and will not be in today\n",
        "Action: I am sick and will not be in today\n",
        "\n",
        "Message: {user_input}\n",
        "Action: \"\"\"\n",
        "\n",
        "generate_text(prompt, temp=0)"
      ]
    },
    {
      "cell_type": "markdown",
      "metadata": {
        "id": "6xZAMOYYl9tg"
      },
      "source": [
        "# Chain of Thought"
      ]
    },
    {
      "cell_type": "markdown",
      "metadata": {
        "id": "CPd5NFy-l6bn"
      },
      "source": [
        "One specific way to provide examples in a prompt is to show responses that include a reasoning step. This way, we are asking the model to “think” first rather than going straight to the response."
      ]
    },
    {
      "cell_type": "markdown",
      "metadata": {
        "id": "1gKI42UbNmsO"
      },
      "source": [
        "### Without Examples"
      ]
    },
    {
      "cell_type": "code",
      "execution_count": 34,
      "metadata": {
        "colab": {
          "base_uri": "https://localhost:8080/"
        },
        "id": "gunqEO1KhrUG",
        "outputId": "4224a762-7620-4a50-83ad-0011d3a3d92c"
      },
      "outputs": [
        {
          "name": "stdout",
          "output_type": "stream",
          "text": [
            "The answer is 12. There are 5 balls that are red and 5 balls that are not red, and adding 4 red balls would make it 9 red and 6 not red."
          ]
        }
      ],
      "source": [
        "prompt=f\"\"\"Q: Roger has 5 tennis balls. He buys 2 more cans of tennis balls. Each can has 3 tennis balls. \\\n",
        "How many tennis balls does he have now?\n",
        "A: The answer is 11.\n",
        "---\n",
        "Q: The cafeteria had 23 apples. If they used 20 to make lunch and bought 6 more, how many apples do they have?\n",
        "A: The answer is 9.\n",
        "---\n",
        "Q: A box has 10 balls and a half of the balls are red balls. How many red balls are in the box if 4 red balls are added?\n",
        "A:\"\"\"\n",
        "\n",
        "generate_text(prompt, temp=0)"
      ]
    },
    {
      "cell_type": "markdown",
      "metadata": {
        "id": "Uim2wOX0NuLc"
      },
      "source": [
        "### With Examples"
      ]
    },
    {
      "cell_type": "code",
      "execution_count": 35,
      "metadata": {
        "colab": {
          "base_uri": "https://localhost:8080/"
        },
        "id": "iT7mW_diOHHu",
        "outputId": "9f895612-bd76-4c21-f6a5-ae0dfe7145dd"
      },
      "outputs": [
        {
          "name": "stdout",
          "output_type": "stream",
          "text": [
            "There are 12 / 2 = 6 red balls in the box. When 4 more red balls are added, the number of red balls becomes 6 + 4 = 10. The answer is 10."
          ]
        }
      ],
      "source": [
        "prompt=f\"\"\"Q: Roger has 5 tennis balls. He buys 2 more cans of tennis balls. Each can has 3 tennis balls. \\\n",
        "How many tennis balls does he have now?\n",
        "A: Roger started with 5 balls. 2 cans of 3 tennis balls each is 6 tennis balls. 5 + 6 = 11. \\\n",
        "The answer is 11.\n",
        "---\n",
        "Q: The cafeteria had 23 apples. If they used 20 to make lunch and bought 6 more, how many apples do they have?\n",
        "A: The cafeteria started with 23 apples. They used 20 to make lunch, so they have 23 - 20 = 3 apples. They bought 6 more apples, so they have 3 + 6 = 9 apples. \\\n",
        "The answer is 9.\n",
        "---\n",
        "Q: A box has 12 balls and a half of the balls are red balls. How many red balls are in the box if 4 red balls are added?\n",
        "A:\"\"\"\n",
        "\n",
        "generate_text(prompt, temp=0)"
      ]
    },
    {
      "cell_type": "markdown",
      "metadata": {
        "id": "RvTwyE0J3bgw"
      },
      "source": [
        "# Format"
      ]
    },
    {
      "cell_type": "markdown",
      "metadata": {
        "id": "2jDfyweJmKc2"
      },
      "source": [
        "We can also get the model to generate responses in a certain format. Let’s look at a couple of them: markdown tables and JSON strings."
      ]
    },
    {
      "cell_type": "markdown",
      "metadata": {
        "id": "dlGb8YCS-H5H"
      },
      "source": [
        "### Table Format"
      ]
    },
    {
      "cell_type": "code",
      "execution_count": 16,
      "metadata": {
        "colab": {
          "base_uri": "https://localhost:8080/",
          "height": 106
        },
        "id": "mtFvXfOi8wfz",
        "outputId": "88fa6654-4fa3-4c60-fd0e-ed0efdd68e88"
      },
      "outputs": [
        {
          "name": "stdout",
          "output_type": "stream",
          "text": [
            "| Invoice Number | Merchant Name | Account Number |\n",
            "| --- | --- | --- |\n",
            "| INVOICE #0521 | ALLBIRDS | XXX3846 |\n",
            "| INVOICE #6781 | SHOPPERS | XXX9877 |\n",
            "| INVOICE #0777 | CN TOWER | XXX3846 |\n",
            "\n",
            "The table presents the invoice details with separate columns for Invoice Number, Merchant Name, and Account Number, making it easy to reference and read."
          ]
        }
      ],
      "source": [
        "prompt=\"\"\"Turn the following information into a table with columns Invoice Number, Merchant Name, and Account Number.\n",
        "Bank Invoice: INVOICE #0521 MERCHANT ALLBIRDS ACC XXX3846\n",
        "Bank Invoice: INVOICE #6781 MERCHANT SHOPPERS ACC XXX9877\n",
        "Bank Invoice: INVOICE #0777 MERCHANT CN TOWER ACC XXX3846\n",
        "\"\"\"\n",
        "\n",
        "generate_text(prompt, temp=0)"
      ]
    },
    {
      "cell_type": "markdown",
      "metadata": {
        "id": "grTLFunv-KCB"
      },
      "source": [
        "### JSON Format"
      ]
    },
    {
      "cell_type": "code",
      "execution_count": 17,
      "metadata": {
        "colab": {
          "base_uri": "https://localhost:8080/",
          "height": 356
        },
        "id": "3JzPmh9E9O9F",
        "outputId": "6a1ae434-31e7-4c29-b13d-37be5aee8d9c"
      },
      "outputs": [
        {
          "name": "stdout",
          "output_type": "stream",
          "text": [
            "```json\n",
            "[\n",
            "    {\n",
            "        \"Invoice Number\": \"INVOICE #0521\",\n",
            "        \"Merchant Name\": \"ALLBIRDS\",\n",
            "        \"Account Number\": \"XXX3846\"\n",
            "    },\n",
            "    {\n",
            "        \"Invoice Number\": \"INVOICE #6781\",\n",
            "        \"Merchant Name\": \"SHOPPERS\",\n",
            "        \"Account Number\": \"XXX9877\"\n",
            "    },\n",
            "    {\n",
            "        \"Invoice Number\": \"INVOICE #0777\",\n",
            "        \"Merchant Name\": \"CN TOWER\",\n",
            "        \"Account Number\": \"XXX3846\"\n",
            "    }\n",
            "]\n",
            "```"
          ]
        }
      ],
      "source": [
        "prompt=\"\"\"Turn the following information into a JSON string with the following keys: Invoice Number, Merchant Name, and Account Number.\n",
        "Bank Invoice: INVOICE #0521 MERCHANT ALLBIRDS ACC XXX3846\n",
        "Bank Invoice: INVOICE #6781 MERCHANT SHOPPERS ACC XXX9877\n",
        "Bank Invoice: INVOICE #0777 MERCHANT CN TOWER ACC XXX3846\n",
        "\"\"\"\n",
        "\n",
        "generate_text(prompt, temp=0)"
      ]
    },
    {
      "cell_type": "markdown",
      "metadata": {
        "id": "Df4lLD-P3aj_"
      },
      "source": [
        "# Steps"
      ]
    },
    {
      "cell_type": "markdown",
      "metadata": {
        "id": "8O7f5E0FmW7S"
      },
      "source": [
        "To steer the model toward generating higher-quality responses, it can be helpful to add instructions for the model to generate intermediate steps before generating the final output. The information generated during these steps helps enrich the model’s context before it generates the final response."
      ]
    },
    {
      "cell_type": "markdown",
      "metadata": {
        "id": "McRoWYXzxxTS"
      },
      "source": [
        "### Without Steps"
      ]
    },
    {
      "cell_type": "code",
      "execution_count": 19,
      "metadata": {
        "colab": {
          "base_uri": "https://localhost:8080/",
          "height": 463
        },
        "id": "lSnOS2kkALZj",
        "outputId": "ba85c10e-daf2-4401-995a-3307ff583478"
      },
      "outputs": [
        {
          "name": "stdout",
          "output_type": "stream",
          "text": [
            "Here's a startup idea for the education industry:\n",
            "\n",
            "**Personalized Learning Platform**\n",
            "\n",
            "The idea is to create a personalized learning platform that adapts to the unique needs and goals of each student. The platform would use advanced algorithms and machine learning to analyze a student's strengths, weaknesses, and learning style to create a customized learning path.\n",
            "\n",
            "Here are some key features of the platform:\n",
            "\n",
            "- Adaptive Learning: The platform would dynamically adjust the content and pace of learning based on a student's performance and understanding. If a student struggles with a particular concept, the platform would provide additional explanations, examples, and practice exercises until the student demonstrates mastery.\n",
            "\n",
            "- Personalized Content: Instead of a one-size-fits-all curriculum, the platform would offer a diverse range of content, including interactive lessons, videos, simulations, and games, tailored to each student's interests and learning style. For example, a student who learns best visually could be provided with infographics and animations, while another student who prefers hands-on learning could be given virtual experiments and projects.\n",
            "\n",
            "- Real-time Feedback: The platform would provide instant feedback and guidance to students as they work through the material. This could include automated hints and suggestions, as well as the option to connect with a human tutor or mentor for further assistance.\n",
            "\n",
            "- Progress Tracking: Students and their parents or guardians would have access to detailed reports showing the student's progress over time, areas of improvement, and achievements. This would help students set goals, stay motivated, and take ownership of their learning journey.\n",
            "\n",
            "- Collaboration and Community: The platform could also facilitate collaboration and peer learning by allowing students to connect and interact with others studying the same subjects. This could include discussion forums, study groups, and project-based collaborations.\n",
            "\n",
            "- Teacher Dashboard: Teachers and educators would have access to a dashboard that provides insights into student progress, allowing them to identify areas where additional support or enrichment may be needed. They could also use the platform to assign personalized homework and track the performance of their entire class.\n",
            "\n",
            "The business model for this startup could include a subscription fee for students and schools to access the platform, as well as potential partnerships with educational institutions and companies to provide customized content and tools.\n",
            "\n",
            "This personalized learning platform aims to revolutionize the way students learn by making education more engaging, effective, and tailored to their unique needs, ultimately improving educational outcomes and fostering a love of learning."
          ]
        }
      ],
      "source": [
        "user_input = \"education\"\n",
        "\n",
        "prompt = f\"\"\"Generate a startup idea for this industry: {user_input}\"\"\"\n",
        "\n",
        "generate_text(prompt, temp=0.5)"
      ]
    },
    {
      "cell_type": "markdown",
      "metadata": {
        "id": "nUfEbk8-xzLi"
      },
      "source": [
        "### With Steps"
      ]
    },
    {
      "cell_type": "code",
      "execution_count": 20,
      "metadata": {
        "colab": {
          "base_uri": "https://localhost:8080/",
          "height": 392
        },
        "id": "aJ6TM2JS-gFG",
        "outputId": "2ac18a82-152d-4db2-92e5-fd9a2b6fd3e0"
      },
      "outputs": [
        {
          "name": "stdout",
          "output_type": "stream",
          "text": [
            "Industry: Education\n",
            "The Problem: Lack of Personalized Learning Experiences\n",
            "\n",
            "In traditional education systems, students often receive a one-size-fits-all teaching approach, which can fail to engage and cater to the unique needs and interests of individual learners. This can result in students becoming disinterested, demotivated, and potentially falling behind in their studies.\n",
            "\n",
            "Audience: Students aged 13-18 and their parents or guardians.\n",
            "\n",
            "Startup Idea: Personalized Learning Paths\n",
            "\n",
            "This startup idea revolves around creating a platform that offers personalized learning experiences for students. Using advanced algorithms, the platform would assess each student's strengths, weaknesses, interests, and learning style. Based on this assessment, the platform would then suggest customized learning paths, including tailored course materials, video lectures, interactive exercises, and projects.\n",
            "\n",
            "The platform would also provide tools for students to track their progress, set goals, and connect with peers following similar learning paths. Additionally, it would offer resources and guidance for parents or guardians to support their child's unique learning journey.\n",
            "\n",
            "Startup Name: Tailored Teach\n",
            "\n",
            "With this innovative approach, Tailored Teach aims to revolutionize the way students learn by empowering them to take ownership of their education and engage with content that is specifically tailored to their needs and interests."
          ]
        }
      ],
      "source": [
        "user_input = \"education\"\n",
        "\n",
        "prompt = f\"\"\"Generate a startup idea for this industry: {user_input}\n",
        "First, describe the problem to be solved.\n",
        "Next, describe the target audience of this startup idea.\n",
        "Next, describe the startup idea and how it solves the problem for the target audience.\n",
        "Next, provide a name for the given startup.\n",
        "\n",
        "Use the following format:\n",
        "Industry: <the given industry>\n",
        "The Problem: <the given problem>\n",
        "Audience: <the given target audience>\n",
        "Startup Idea: <the given idea>\n",
        "Startup Name: <the given name>\"\"\"\n",
        "\n",
        "generate_text(prompt, temp=0.9)"
      ]
    }
  ],
  "metadata": {
    "colab": {
      "collapsed_sections": [
        "IKqOwwW6kxg5"
      ],
      "provenance": [],
      "toc_visible": true
    },
    "kernelspec": {
      "display_name": "Python 3",
      "name": "python3"
    },
    "language_info": {
      "codemirror_mode": {
        "name": "ipython",
        "version": 3
      },
      "file_extension": ".py",
      "mimetype": "text/x-python",
      "name": "python",
      "nbconvert_exporter": "python",
      "pygments_lexer": "ipython3",
      "version": "3.11.4"
    }
  },
  "nbformat": 4,
  "nbformat_minor": 0
}
